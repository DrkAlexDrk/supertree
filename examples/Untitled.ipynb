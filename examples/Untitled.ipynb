{
 "cells": [
  {
   "cell_type": "code",
   "execution_count": 1,
   "id": "6a49db4d-8d19-4ac3-a130-397a1984167c",
   "metadata": {},
   "outputs": [],
   "source": [
    "from sklearn.datasets import load_diabetes\n",
    "from sklearn.model_selection import train_test_split\n",
    "from sklearn.ensemble import ExtraTreesRegressor"
   ]
  },
  {
   "cell_type": "code",
   "execution_count": 2,
   "id": "2cff5aa3-bb9a-4cd9-b26d-c5be836639c1",
   "metadata": {},
   "outputs": [
    {
     "ename": "NameError",
     "evalue": "name 'SuperTree' is not defined",
     "output_type": "error",
     "traceback": [
      "\u001b[0;31m---------------------------------------------------------------------------\u001b[0m",
      "\u001b[0;31mNameError\u001b[0m                                 Traceback (most recent call last)",
      "Cell \u001b[0;32mIn[2], line 13\u001b[0m\n\u001b[1;32m     10\u001b[0m y_pred \u001b[38;5;241m=\u001b[39m extra_tree_model\u001b[38;5;241m.\u001b[39mpredict(X)\n\u001b[1;32m     12\u001b[0m \u001b[38;5;66;03m# In regression, everything is analogous, except that target names should be provided as a single string.\u001b[39;00m\n\u001b[0;32m---> 13\u001b[0m super_tree_diabetes_all_data \u001b[38;5;241m=\u001b[39m \u001b[43mSuperTree\u001b[49m(extra_tree_model, X_subset, y_subset, diabetes\u001b[38;5;241m.\u001b[39mfeature_names, [\u001b[38;5;124m\"\u001b[39m\u001b[38;5;124mtarget\u001b[39m\u001b[38;5;124m\"\u001b[39m])\n\u001b[1;32m     14\u001b[0m super_tree_diabetes_without_names \u001b[38;5;241m=\u001b[39m SuperTree(extra_tree_model, X_subset, y_subset)\n\u001b[1;32m     15\u001b[0m super_tree_diabetes_only_model \u001b[38;5;241m=\u001b[39m SuperTree(extra_tree_model)\n",
      "\u001b[0;31mNameError\u001b[0m: name 'SuperTree' is not defined"
     ]
    }
   ],
   "source": [
    "diabetes = load_diabetes()\n",
    "X, y = diabetes.data, diabetes.target\n",
    "\n",
    "X_subset, _, y_subset, _ = train_test_split(X, y, test_size=0.8, random_state=42)\n",
    "\n",
    "extra_tree_model = ExtraTreesRegressor(random_state=42)\n",
    "\n",
    "extra_tree_model.fit(X_subset, y_subset)\n",
    "\n",
    "y_pred = extra_tree_model.predict(X)\n",
    "\n",
    "# In regression, everything is analogous, except that target names should be provided as a single string.\n",
    "super_tree_diabetes_all_data = SuperTree(extra_tree_model, X_subset, y_subset, diabetes.feature_names, [\"target\"])\n",
    "super_tree_diabetes_without_names = SuperTree(extra_tree_model, X_subset, y_subset)\n",
    "super_tree_diabetes_only_model = SuperTree(extra_tree_model)"
   ]
  },
  {
   "cell_type": "code",
   "execution_count": null,
   "id": "a0baef8f-3679-4986-a721-ceddd59e74ba",
   "metadata": {},
   "outputs": [],
   "source": [
    "# In models that consist of multiple trees, we can select which specific trees we want to display.\n",
    "super_tree_diabetes_all_data.show_tree(2);"
   ]
  }
 ],
 "metadata": {
  "kernelspec": {
   "display_name": "colabtest",
   "language": "python",
   "name": "colabtest"
  },
  "language_info": {
   "codemirror_mode": {
    "name": "ipython",
    "version": 3
   },
   "file_extension": ".py",
   "mimetype": "text/x-python",
   "name": "python",
   "nbconvert_exporter": "python",
   "pygments_lexer": "ipython3",
   "version": "3.10.12"
  }
 },
 "nbformat": 4,
 "nbformat_minor": 5
}
