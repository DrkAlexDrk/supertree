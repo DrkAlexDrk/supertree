
from sklearn.datasets import load_diabetes
from sklearn.model_selection import train_test_split
from sklearn.ensemble import ExtraTreesRegressor


diabetes = load_diabetes()
X, y = diabetes.data, diabetes.target

X_subset, _, y_subset, _ = train_test_split(X, y, test_size=0.8, random_state=42)

extra_tree_model = ExtraTreesRegressor(random_state=42)

extra_tree_model.fit(X_subset, y_subset)

y_pred = extra_tree_model.predict(X)

# In regression, everything is analogous, except that target names should be provided as a single string.
super_tree_diabetes_all_data = SuperTree(extra_tree_model, X_subset, y_subset, diabetes.feature_names, ["target"])
super_tree_diabetes_without_names = SuperTree(extra_tree_model, X_subset, y_subset)
super_tree_diabetes_only_model = SuperTree(extra_tree_model)


# In models that consist of multiple trees, we can select which specific trees we want to display.
super_tree_diabetes_all_data.show_tree(2);
