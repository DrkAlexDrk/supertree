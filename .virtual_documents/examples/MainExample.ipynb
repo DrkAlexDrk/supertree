from supertree import SuperTree

from sklearn.datasets import load_iris
from sklearn.tree import DecisionTreeClassifier


iris = load_iris()

X, y = iris.data, iris.target
#train Decision Tree
model = DecisionTreeClassifier()
model.fit(X, y)

# The SuperTree constructor accepts five arguments: Model, feature data, target data, feature names, and target names, with only the first one being mandatory. 
# However, it is required to provide the other arguments in the configuration format as shown below.
# For feature data and target data, the following data types are accepted: List, np.ndarray, pd.DataFrame, pd.Series. 
# Feature names and target names should be provided as a list of strings (with target names being a single string in the case of regression).

super_tree_iris_all_data = SuperTree(model, X, y, iris.feature_names, iris.target_names)

super_tree_iris_without_names = SuperTree(model, X, y)

super_tree_iris_only_model = SuperTree(model)


super_tree_iris_all_data.show_tree()



super_tree_iris_without_names.show_tree()


super_tree_iris_only_model.show_tree()


super_tree_iris_all_data.save_html()


super_tree_iris_all_data.save_json_tree()



from sklearn.datasets import load_diabetes
from sklearn.model_selection import train_test_split
from sklearn.ensemble import ExtraTreesRegressor



diabetes = load_diabetes()
X, y = diabetes.data, diabetes.target

X_subset, _, y_subset, _ = train_test_split(X, y, test_size=0.8, random_state=42)

extra_tree_model = ExtraTreesRegressor(random_state=42)

extra_tree_model.fit(X_subset, y_subset)

y_pred = extra_tree_model.predict(X)

# In regression, everything is analogous, except that target names should be provided as a single string.
super_tree_diabetes_all_data = SuperTree(extra_tree_model, X_subset, y_subset, diabetes.feature_names, ["target"])
super_tree_diabetes_without_names = SuperTree(extra_tree_model, X_subset, y_subset)
super_tree_diabetes_only_model = SuperTree(extra_tree_model)




# In models that consist of multiple trees, we can select which specific trees we want to display.
super_tree_diabetes_all_data.show_tree(2);


super_tree_diabetes_without_names.show_tree(0);


super_tree_diabetes_only_model.show_tree(10);


# In methods that save our data to a file, we can assign a custom file name and select which tree to save.
super_tree_diabetes_all_data.save_html(filename="tree",which_tree=2)


super_tree_diabetes_all_data.save_json_tree()



