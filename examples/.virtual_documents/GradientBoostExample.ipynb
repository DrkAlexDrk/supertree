from supertree import SuperTree
from sklearn import datasets
from sklearn.ensemble import GradientBoostingRegressor
from sklearn.ensemble import GradientBoostingClassifier


rows, cols = 100, 5

X_class, y_class = datasets.make_classification(
    n_samples=rows, n_features=cols, n_informative=cols, n_redundant=0, n_repeated=0, n_classes=5, random_state=124)


feature_names_class = [f"f_{i}" for i in range(cols)]
target_names_class = [f"class_{i}" for i in range(len(set(y_class)))]

X_reg, y_reg = datasets.make_regression(
    n_samples=rows, n_features=cols, noise=0.1, random_state=123)


feature_names_reg = [f"f_{i}" for i in range(cols)]
target_names_reg = ["regression_target"]



gb_classifier = GradientBoostingClassifier(n_estimators=100, random_state=42)

gb_classifier.fit(X_class, y_class)


st = SuperTree(gb_classifier,X_class,y_class,feature_names_class, target_names_class)


st.save_json_tree("output",3)


st.show_tree(3)


st.save_html("output",3)
