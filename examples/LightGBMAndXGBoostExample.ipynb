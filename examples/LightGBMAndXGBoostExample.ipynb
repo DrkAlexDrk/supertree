{
 "cells": [
  {
   "cell_type": "code",
   "execution_count": 1,
   "id": "918c111a-df8f-467d-a7da-fd8c5e6b2677",
   "metadata": {},
   "outputs": [
    {
     "ename": "ModuleNotFoundError",
     "evalue": "No module named 'numpy'",
     "output_type": "error",
     "traceback": [
      "\u001b[0;31m---------------------------------------------------------------------------\u001b[0m",
      "\u001b[0;31mModuleNotFoundError\u001b[0m                       Traceback (most recent call last)",
      "Cell \u001b[0;32mIn[1], line 1\u001b[0m\n\u001b[0;32m----> 1\u001b[0m \u001b[38;5;28;01mfrom\u001b[39;00m \u001b[38;5;21;01msupertree\u001b[39;00m \u001b[38;5;28;01mimport\u001b[39;00m SuperTree\n\u001b[1;32m      2\u001b[0m \u001b[38;5;28;01mfrom\u001b[39;00m \u001b[38;5;21;01msklearn\u001b[39;00m \u001b[38;5;28;01mimport\u001b[39;00m datasets\n\u001b[1;32m      3\u001b[0m \u001b[38;5;28;01mfrom\u001b[39;00m \u001b[38;5;21;01msklearn\u001b[39;00m\u001b[38;5;21;01m.\u001b[39;00m\u001b[38;5;21;01mmodel_selection\u001b[39;00m \u001b[38;5;28;01mimport\u001b[39;00m train_test_split\n",
      "File \u001b[0;32m~/mljar/supertree/supertreepackage/supertree/supertree/__init__.py:1\u001b[0m\n\u001b[0;32m----> 1\u001b[0m \u001b[38;5;28;01mfrom\u001b[39;00m \u001b[38;5;21;01m.\u001b[39;00m\u001b[38;5;21;01mnode\u001b[39;00m \u001b[38;5;28;01mimport\u001b[39;00m Node\n\u001b[1;32m      2\u001b[0m \u001b[38;5;28;01mfrom\u001b[39;00m \u001b[38;5;21;01m.\u001b[39;00m\u001b[38;5;21;01mtreedata\u001b[39;00m \u001b[38;5;28;01mimport\u001b[39;00m TreeData\n\u001b[1;32m      3\u001b[0m \u001b[38;5;28;01mfrom\u001b[39;00m \u001b[38;5;21;01m.\u001b[39;00m\u001b[38;5;21;01msupertree\u001b[39;00m \u001b[38;5;28;01mimport\u001b[39;00m SuperTree\n",
      "File \u001b[0;32m~/mljar/supertree/supertreepackage/supertree/supertree/node.py:1\u001b[0m\n\u001b[0;32m----> 1\u001b[0m \u001b[38;5;28;01mimport\u001b[39;00m \u001b[38;5;21;01mnumpy\u001b[39;00m \u001b[38;5;28;01mas\u001b[39;00m \u001b[38;5;21;01mnp\u001b[39;00m\n\u001b[1;32m      4\u001b[0m \u001b[38;5;28;01mclass\u001b[39;00m \u001b[38;5;21;01mNode\u001b[39;00m:\n\u001b[1;32m      5\u001b[0m     \u001b[38;5;28;01mdef\u001b[39;00m \u001b[38;5;21m__init__\u001b[39m(\u001b[38;5;28mself\u001b[39m, feature, threshold, impurity, samples,\n\u001b[1;32m      6\u001b[0m                  class_distribution,\n\u001b[1;32m      7\u001b[0m                  treeclass, is_leaf,\n\u001b[1;32m      8\u001b[0m                  left_children, right_children):\n",
      "\u001b[0;31mModuleNotFoundError\u001b[0m: No module named 'numpy'"
     ]
    }
   ],
   "source": [
    "from supertree import SuperTree\n",
    "from sklearn import datasets\n",
    "from sklearn.model_selection import train_test_split\n",
    "import lightgbm as lgb\n",
    "import xgboost as xgb"
   ]
  },
  {
   "cell_type": "code",
   "execution_count": null,
   "id": "07bc2789-bdad-4c62-925a-d630eca81ee5",
   "metadata": {},
   "outputs": [],
   "source": [
    "cols = 5\n",
    "rows = 100\n",
    "\n",
    "X_class, y_class = datasets.make_classification(\n",
    "    n_samples=rows, n_features=cols, n_informative=cols, n_redundant=0, n_repeated=0, n_classes=3, random_state=123)\n",
    "X_reg, y_reg = datasets.make_regression(\n",
    "    n_samples=rows, n_features=cols, noise=0.1, random_state=123)\n",
    "feature_names_class = [f\"f_{i}\" for i in range(cols)]\n",
    "target_names_class = [f\"class_{i}\" for i in range(len(set(y_class)))]\n",
    "feature_names_reg = [f\"f_{i}\" for i in range(cols)]\n",
    "target_names_reg = [\"regression_target\"]\n",
    "\n",
    "X_class_train, X_class_test, y_class_train, y_class_test = train_test_split(X_class, y_class, test_size=0.2, random_state=123)\n",
    "X_reg_train, X_reg_test, y_reg_train, y_reg_test = train_test_split(X_reg, y_reg, test_size=0.2, random_state=123)"
   ]
  },
  {
   "cell_type": "code",
   "execution_count": null,
   "id": "2b88040b-e76b-4ac6-bdfb-48bd56bd18f5",
   "metadata": {},
   "outputs": [],
   "source": [
    "lgb_classifier = lgb.LGBMClassifier(random_state=123)\n",
    "lgb_classifier.fit(X_class, y_class)"
   ]
  },
  {
   "cell_type": "code",
   "execution_count": null,
   "id": "7e81a4c3-50a2-4d58-9f4f-d5639dc486e3",
   "metadata": {},
   "outputs": [],
   "source": [
    "model_xgb_regressor = xgb.XGBRegressor()\n",
    "model_xgb_regressor.fit(X_reg_train, y_reg_train)"
   ]
  },
  {
   "cell_type": "code",
   "execution_count": null,
   "id": "f2987a3c-1e5d-4288-8995-f810bafe2de4",
   "metadata": {},
   "outputs": [],
   "source": [
    "stlgb = SuperTree(model_xgb_regressor, X_reg, y_reg,feature_names_reg, target_names_reg)"
   ]
  },
  {
   "cell_type": "code",
   "execution_count": null,
   "id": "c144b28d-ca3e-4691-9012-65467aefdc15",
   "metadata": {},
   "outputs": [],
   "source": [
    "stxgb = SuperTree(lgb_classifier, X_class, y_class,feature_names_class, target_names_class)"
   ]
  },
  {
   "cell_type": "code",
   "execution_count": null,
   "id": "a1e63691-e559-46bb-bf6b-6b9f4e237001",
   "metadata": {},
   "outputs": [],
   "source": [
    "stlgb.show_tree()"
   ]
  },
  {
   "cell_type": "code",
   "execution_count": null,
   "id": "761e5385-1cb0-4bda-bb6b-0736f90407e7",
   "metadata": {},
   "outputs": [],
   "source": [
    "stxgb.show_tree()"
   ]
  },
  {
   "cell_type": "code",
   "execution_count": null,
   "id": "37def687-c7ba-44e3-b809-f8607e70225e",
   "metadata": {},
   "outputs": [],
   "source": []
  }
 ],
 "metadata": {
  "kernelspec": {
   "display_name": "colabtest",
   "language": "python",
   "name": "colabtest"
  },
  "language_info": {
   "codemirror_mode": {
    "name": "ipython",
    "version": 3
   },
   "file_extension": ".py",
   "mimetype": "text/x-python",
   "name": "python",
   "nbconvert_exporter": "python",
   "pygments_lexer": "ipython3",
   "version": "3.10.12"
  }
 },
 "nbformat": 4,
 "nbformat_minor": 5
}
