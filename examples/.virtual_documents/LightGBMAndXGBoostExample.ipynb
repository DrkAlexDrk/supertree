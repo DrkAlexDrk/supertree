from supertree import SuperTree
from sklearn import datasets
from sklearn.model_selection import train_test_split
import lightgbm as lgb
import xgboost as xgb


cols = 5
rows = 100

X_class, y_class = datasets.make_classification(
    n_samples=rows, n_features=cols, n_informative=cols, n_redundant=0, n_repeated=0, n_classes=3, random_state=123)
X_reg, y_reg = datasets.make_regression(
    n_samples=rows, n_features=cols, noise=0.1, random_state=123)
feature_names_class = [f"f_{i}" for i in range(cols)]
target_names_class = [f"class_{i}" for i in range(len(set(y_class)))]
feature_names_reg = [f"f_{i}" for i in range(cols)]
target_names_reg = ["regression_target"]

X_class_train, X_class_test, y_class_train, y_class_test = train_test_split(X_class, y_class, test_size=0.2, random_state=123)
X_reg_train, X_reg_test, y_reg_train, y_reg_test = train_test_split(X_reg, y_reg, test_size=0.2, random_state=123)


lgb_classifier = lgb.LGBMClassifier(random_state=123)
lgb_classifier.fit(X_class, y_class)


model_xgb_regressor = xgb.XGBRegressor()
model_xgb_regressor.fit(X_reg_train, y_reg_train)


stlgb = SuperTree(model_xgb_regressor, X_reg, y_reg,feature_names_reg, target_names_reg)


stxgb = SuperTree(lgb_classifier, X_class, y_class,feature_names_class, target_names_class)


stlgb.show_tree()


stxgb.show_tree()



